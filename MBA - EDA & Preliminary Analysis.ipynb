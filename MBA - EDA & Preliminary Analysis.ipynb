{
 "cells": [
  {
   "cell_type": "markdown",
   "id": "b0075319",
   "metadata": {},
   "source": [
    "# Data Exploration, Cleaning, and Preparation"
   ]
  },
  {
   "cell_type": "code",
   "execution_count": 90,
   "id": "df8643f3",
   "metadata": {},
   "outputs": [],
   "source": [
    "# Import required libraries\n",
    "import pandas as pd\n",
    "import numpy as np\n",
    "import matplotlib.pyplot as plt\n",
    "import seaborn as sns\n",
    "import warnings as wr\n",
    "wr.filterwarnings('ignore')"
   ]
  },
  {
   "cell_type": "code",
   "execution_count": 91,
   "id": "14bd848b",
   "metadata": {},
   "outputs": [
    {
     "data": {
      "text/html": [
       "<div>\n",
       "<style scoped>\n",
       "    .dataframe tbody tr th:only-of-type {\n",
       "        vertical-align: middle;\n",
       "    }\n",
       "\n",
       "    .dataframe tbody tr th {\n",
       "        vertical-align: top;\n",
       "    }\n",
       "\n",
       "    .dataframe thead th {\n",
       "        text-align: right;\n",
       "    }\n",
       "</style>\n",
       "<table border=\"1\" class=\"dataframe\">\n",
       "  <thead>\n",
       "    <tr style=\"text-align: right;\">\n",
       "      <th></th>\n",
       "      <th>OrderID</th>\n",
       "      <th>OrderDate</th>\n",
       "      <th>ShipDate</th>\n",
       "      <th>CustomerID</th>\n",
       "      <th>CustomerName</th>\n",
       "      <th>ProductID</th>\n",
       "      <th>Category</th>\n",
       "      <th>ProductName</th>\n",
       "      <th>Quantity</th>\n",
       "      <th>UnitPrice</th>\n",
       "      <th>...</th>\n",
       "      <th>PaymentMethod</th>\n",
       "      <th>IsBulkOrder</th>\n",
       "      <th>IsHighValue</th>\n",
       "      <th>Region</th>\n",
       "      <th>ClientType</th>\n",
       "      <th>IsRepeatedCustomer</th>\n",
       "      <th>FeedbackScore</th>\n",
       "      <th>FeedbackComment</th>\n",
       "      <th>ShippingMethod</th>\n",
       "      <th>ShippingCost</th>\n",
       "    </tr>\n",
       "  </thead>\n",
       "  <tbody>\n",
       "    <tr>\n",
       "      <th>0</th>\n",
       "      <td>KS-39256</td>\n",
       "      <td>2020-02-21</td>\n",
       "      <td>2022-06-17 04:44:17</td>\n",
       "      <td>Cust001</td>\n",
       "      <td>Long Inc</td>\n",
       "      <td>a95e3a37-a116-4abf-aa86-62dc9afda5c8</td>\n",
       "      <td>Grocery</td>\n",
       "      <td>Bread</td>\n",
       "      <td>3</td>\n",
       "      <td>59.46</td>\n",
       "      <td>...</td>\n",
       "      <td>Debit Card</td>\n",
       "      <td>True</td>\n",
       "      <td>True</td>\n",
       "      <td>Bonniemouth</td>\n",
       "      <td>Corporate</td>\n",
       "      <td>True</td>\n",
       "      <td>4</td>\n",
       "      <td>Fresh and tasty.</td>\n",
       "      <td>Air</td>\n",
       "      <td>16.19</td>\n",
       "    </tr>\n",
       "    <tr>\n",
       "      <th>1</th>\n",
       "      <td>KS-39256</td>\n",
       "      <td>2020-02-21</td>\n",
       "      <td>2021-12-08 12:12:24</td>\n",
       "      <td>Cust001</td>\n",
       "      <td>Long Inc</td>\n",
       "      <td>6d9319e5-941d-44e6-9ebc-f1f17222a920</td>\n",
       "      <td>Home &amp; Kitchen</td>\n",
       "      <td>Mixer</td>\n",
       "      <td>11</td>\n",
       "      <td>28.51</td>\n",
       "      <td>...</td>\n",
       "      <td>Credit Card</td>\n",
       "      <td>True</td>\n",
       "      <td>False</td>\n",
       "      <td>New Dawnburgh</td>\n",
       "      <td>Individual</td>\n",
       "      <td>False</td>\n",
       "      <td>3</td>\n",
       "      <td>Stopped working after a week.</td>\n",
       "      <td>Air</td>\n",
       "      <td>16.14</td>\n",
       "    </tr>\n",
       "    <tr>\n",
       "      <th>2</th>\n",
       "      <td>OR-35203</td>\n",
       "      <td>2020-09-12</td>\n",
       "      <td>2021-09-01 00:39:48</td>\n",
       "      <td>Cust002</td>\n",
       "      <td>Gross, Fisher and Santos</td>\n",
       "      <td>d2bc0632-b80c-4202-bed5-897c6ed687a9</td>\n",
       "      <td>Books</td>\n",
       "      <td>Novel</td>\n",
       "      <td>10</td>\n",
       "      <td>98.54</td>\n",
       "      <td>...</td>\n",
       "      <td>Cash</td>\n",
       "      <td>False</td>\n",
       "      <td>False</td>\n",
       "      <td>Lake Jasonhaven</td>\n",
       "      <td>Corporate</td>\n",
       "      <td>True</td>\n",
       "      <td>3</td>\n",
       "      <td>Couldn't put it down!</td>\n",
       "      <td>Air</td>\n",
       "      <td>4.19</td>\n",
       "    </tr>\n",
       "    <tr>\n",
       "      <th>3</th>\n",
       "      <td>OR-35203</td>\n",
       "      <td>2020-09-12</td>\n",
       "      <td>2021-06-04 20:30:40</td>\n",
       "      <td>Cust002</td>\n",
       "      <td>Gross, Fisher and Santos</td>\n",
       "      <td>98fb575a-8d57-4a7c-a064-bacce1fe2d8f</td>\n",
       "      <td>Electronics</td>\n",
       "      <td>Headphones</td>\n",
       "      <td>18</td>\n",
       "      <td>73.18</td>\n",
       "      <td>...</td>\n",
       "      <td>Debit Card</td>\n",
       "      <td>False</td>\n",
       "      <td>True</td>\n",
       "      <td>Cooperberg</td>\n",
       "      <td>Individual</td>\n",
       "      <td>True</td>\n",
       "      <td>3</td>\n",
       "      <td>Great product with excellent features.</td>\n",
       "      <td>Sea</td>\n",
       "      <td>5.35</td>\n",
       "    </tr>\n",
       "    <tr>\n",
       "      <th>4</th>\n",
       "      <td>OR-35203</td>\n",
       "      <td>2020-09-12</td>\n",
       "      <td>2022-01-13 20:02:30</td>\n",
       "      <td>Cust002</td>\n",
       "      <td>Gross, Fisher and Santos</td>\n",
       "      <td>f3c6a61d-1c5b-461a-9679-bb3137d7a2e0</td>\n",
       "      <td>Home &amp; Kitchen</td>\n",
       "      <td>Toaster</td>\n",
       "      <td>7</td>\n",
       "      <td>65.89</td>\n",
       "      <td>...</td>\n",
       "      <td>Cash</td>\n",
       "      <td>True</td>\n",
       "      <td>False</td>\n",
       "      <td>Tannerland</td>\n",
       "      <td>Individual</td>\n",
       "      <td>True</td>\n",
       "      <td>5</td>\n",
       "      <td>Not satisfied with the performance.</td>\n",
       "      <td>Air</td>\n",
       "      <td>14.94</td>\n",
       "    </tr>\n",
       "  </tbody>\n",
       "</table>\n",
       "<p>5 rows × 22 columns</p>\n",
       "</div>"
      ],
      "text/plain": [
       "    OrderID   OrderDate             ShipDate CustomerID  \\\n",
       "0  KS-39256  2020-02-21  2022-06-17 04:44:17    Cust001   \n",
       "1  KS-39256  2020-02-21  2021-12-08 12:12:24    Cust001   \n",
       "2  OR-35203  2020-09-12  2021-09-01 00:39:48    Cust002   \n",
       "3  OR-35203  2020-09-12  2021-06-04 20:30:40    Cust002   \n",
       "4  OR-35203  2020-09-12  2022-01-13 20:02:30    Cust002   \n",
       "\n",
       "               CustomerName                             ProductID  \\\n",
       "0                  Long Inc  a95e3a37-a116-4abf-aa86-62dc9afda5c8   \n",
       "1                  Long Inc  6d9319e5-941d-44e6-9ebc-f1f17222a920   \n",
       "2  Gross, Fisher and Santos  d2bc0632-b80c-4202-bed5-897c6ed687a9   \n",
       "3  Gross, Fisher and Santos  98fb575a-8d57-4a7c-a064-bacce1fe2d8f   \n",
       "4  Gross, Fisher and Santos  f3c6a61d-1c5b-461a-9679-bb3137d7a2e0   \n",
       "\n",
       "         Category ProductName  Quantity  UnitPrice  ...  PaymentMethod  \\\n",
       "0         Grocery       Bread         3      59.46  ...     Debit Card   \n",
       "1  Home & Kitchen       Mixer        11      28.51  ...    Credit Card   \n",
       "2           Books       Novel        10      98.54  ...           Cash   \n",
       "3     Electronics  Headphones        18      73.18  ...     Debit Card   \n",
       "4  Home & Kitchen     Toaster         7      65.89  ...           Cash   \n",
       "\n",
       "   IsBulkOrder IsHighValue           Region  ClientType IsRepeatedCustomer  \\\n",
       "0         True        True      Bonniemouth   Corporate               True   \n",
       "1         True       False    New Dawnburgh  Individual              False   \n",
       "2        False       False  Lake Jasonhaven   Corporate               True   \n",
       "3        False        True       Cooperberg  Individual               True   \n",
       "4         True       False       Tannerland  Individual               True   \n",
       "\n",
       "  FeedbackScore                         FeedbackComment  ShippingMethod  \\\n",
       "0             4                        Fresh and tasty.             Air   \n",
       "1             3           Stopped working after a week.             Air   \n",
       "2             3                   Couldn't put it down!             Air   \n",
       "3             3  Great product with excellent features.             Sea   \n",
       "4             5     Not satisfied with the performance.             Air   \n",
       "\n",
       "  ShippingCost  \n",
       "0        16.19  \n",
       "1        16.14  \n",
       "2         4.19  \n",
       "3         5.35  \n",
       "4        14.94  \n",
       "\n",
       "[5 rows x 22 columns]"
      ]
     },
     "execution_count": 91,
     "metadata": {},
     "output_type": "execute_result"
    }
   ],
   "source": [
    "# 1. Read the dataset\n",
    "df = pd.read_csv('Orders.csv')\n",
    "df.head()"
   ]
  },
  {
   "cell_type": "code",
   "execution_count": 92,
   "id": "e1c55306",
   "metadata": {},
   "outputs": [
    {
     "data": {
      "text/plain": [
       "(395, 22)"
      ]
     },
     "execution_count": 92,
     "metadata": {},
     "output_type": "execute_result"
    }
   ],
   "source": [
    "# 2.Know the shape of the dataset\n",
    "df.shape"
   ]
  },
  {
   "cell_type": "code",
   "execution_count": 93,
   "id": "33ef24ca",
   "metadata": {},
   "outputs": [
    {
     "name": "stdout",
     "output_type": "stream",
     "text": [
      "<class 'pandas.core.frame.DataFrame'>\n",
      "RangeIndex: 395 entries, 0 to 394\n",
      "Data columns (total 22 columns):\n",
      " #   Column              Non-Null Count  Dtype  \n",
      "---  ------              --------------  -----  \n",
      " 0   OrderID             395 non-null    object \n",
      " 1   OrderDate           395 non-null    object \n",
      " 2   ShipDate            395 non-null    object \n",
      " 3   CustomerID          395 non-null    object \n",
      " 4   CustomerName        395 non-null    object \n",
      " 5   ProductID           395 non-null    object \n",
      " 6   Category            395 non-null    object \n",
      " 7   ProductName         395 non-null    object \n",
      " 8   Quantity            395 non-null    int64  \n",
      " 9   UnitPrice           395 non-null    float64\n",
      " 10  Discount            395 non-null    float64\n",
      " 11  TotalPrice          395 non-null    float64\n",
      " 12  PaymentMethod       395 non-null    object \n",
      " 13  IsBulkOrder         395 non-null    bool   \n",
      " 14  IsHighValue         395 non-null    bool   \n",
      " 15  Region              395 non-null    object \n",
      " 16  ClientType          395 non-null    object \n",
      " 17  IsRepeatedCustomer  395 non-null    bool   \n",
      " 18  FeedbackScore       395 non-null    int64  \n",
      " 19  FeedbackComment     395 non-null    object \n",
      " 20  ShippingMethod      395 non-null    object \n",
      " 21  ShippingCost        395 non-null    float64\n",
      "dtypes: bool(3), float64(4), int64(2), object(13)\n",
      "memory usage: 59.9+ KB\n"
     ]
    }
   ],
   "source": [
    "# 3. Know the datatype of each variable\n",
    "df.info()"
   ]
  },
  {
   "cell_type": "code",
   "execution_count": 94,
   "id": "4a728bbc",
   "metadata": {},
   "outputs": [
    {
     "data": {
      "text/html": [
       "<div>\n",
       "<style scoped>\n",
       "    .dataframe tbody tr th:only-of-type {\n",
       "        vertical-align: middle;\n",
       "    }\n",
       "\n",
       "    .dataframe tbody tr th {\n",
       "        vertical-align: top;\n",
       "    }\n",
       "\n",
       "    .dataframe thead th {\n",
       "        text-align: right;\n",
       "    }\n",
       "</style>\n",
       "<table border=\"1\" class=\"dataframe\">\n",
       "  <thead>\n",
       "    <tr style=\"text-align: right;\">\n",
       "      <th></th>\n",
       "      <th>Quantity</th>\n",
       "      <th>UnitPrice</th>\n",
       "      <th>Discount</th>\n",
       "      <th>TotalPrice</th>\n",
       "      <th>FeedbackScore</th>\n",
       "      <th>ShippingCost</th>\n",
       "    </tr>\n",
       "  </thead>\n",
       "  <tbody>\n",
       "    <tr>\n",
       "      <th>count</th>\n",
       "      <td>395.000000</td>\n",
       "      <td>395.000000</td>\n",
       "      <td>395.000000</td>\n",
       "      <td>395.000000</td>\n",
       "      <td>395.000000</td>\n",
       "      <td>395.000000</td>\n",
       "    </tr>\n",
       "    <tr>\n",
       "      <th>mean</th>\n",
       "      <td>11.144304</td>\n",
       "      <td>51.751848</td>\n",
       "      <td>0.153342</td>\n",
       "      <td>477.257747</td>\n",
       "      <td>3.000000</td>\n",
       "      <td>9.816582</td>\n",
       "    </tr>\n",
       "    <tr>\n",
       "      <th>std</th>\n",
       "      <td>5.803634</td>\n",
       "      <td>28.972531</td>\n",
       "      <td>0.088879</td>\n",
       "      <td>382.751751</td>\n",
       "      <td>1.368611</td>\n",
       "      <td>5.752231</td>\n",
       "    </tr>\n",
       "    <tr>\n",
       "      <th>min</th>\n",
       "      <td>1.000000</td>\n",
       "      <td>1.010000</td>\n",
       "      <td>0.000000</td>\n",
       "      <td>0.770000</td>\n",
       "      <td>1.000000</td>\n",
       "      <td>0.100000</td>\n",
       "    </tr>\n",
       "    <tr>\n",
       "      <th>25%</th>\n",
       "      <td>6.000000</td>\n",
       "      <td>27.230000</td>\n",
       "      <td>0.070000</td>\n",
       "      <td>153.975000</td>\n",
       "      <td>2.000000</td>\n",
       "      <td>4.885000</td>\n",
       "    </tr>\n",
       "    <tr>\n",
       "      <th>50%</th>\n",
       "      <td>11.000000</td>\n",
       "      <td>53.430000</td>\n",
       "      <td>0.160000</td>\n",
       "      <td>389.880000</td>\n",
       "      <td>3.000000</td>\n",
       "      <td>9.950000</td>\n",
       "    </tr>\n",
       "    <tr>\n",
       "      <th>75%</th>\n",
       "      <td>16.000000</td>\n",
       "      <td>76.695000</td>\n",
       "      <td>0.230000</td>\n",
       "      <td>722.420000</td>\n",
       "      <td>4.000000</td>\n",
       "      <td>14.740000</td>\n",
       "    </tr>\n",
       "    <tr>\n",
       "      <th>max</th>\n",
       "      <td>20.000000</td>\n",
       "      <td>99.750000</td>\n",
       "      <td>0.300000</td>\n",
       "      <td>1909.740000</td>\n",
       "      <td>5.000000</td>\n",
       "      <td>19.990000</td>\n",
       "    </tr>\n",
       "  </tbody>\n",
       "</table>\n",
       "</div>"
      ],
      "text/plain": [
       "         Quantity   UnitPrice    Discount   TotalPrice  FeedbackScore  \\\n",
       "count  395.000000  395.000000  395.000000   395.000000     395.000000   \n",
       "mean    11.144304   51.751848    0.153342   477.257747       3.000000   \n",
       "std      5.803634   28.972531    0.088879   382.751751       1.368611   \n",
       "min      1.000000    1.010000    0.000000     0.770000       1.000000   \n",
       "25%      6.000000   27.230000    0.070000   153.975000       2.000000   \n",
       "50%     11.000000   53.430000    0.160000   389.880000       3.000000   \n",
       "75%     16.000000   76.695000    0.230000   722.420000       4.000000   \n",
       "max     20.000000   99.750000    0.300000  1909.740000       5.000000   \n",
       "\n",
       "       ShippingCost  \n",
       "count    395.000000  \n",
       "mean       9.816582  \n",
       "std        5.752231  \n",
       "min        0.100000  \n",
       "25%        4.885000  \n",
       "50%        9.950000  \n",
       "75%       14.740000  \n",
       "max       19.990000  "
      ]
     },
     "execution_count": 94,
     "metadata": {},
     "output_type": "execute_result"
    }
   ],
   "source": [
    "# 4. Basic statistical summary\n",
    "df.describe()"
   ]
  },
  {
   "cell_type": "code",
   "execution_count": 95,
   "id": "b94b2e6d",
   "metadata": {},
   "outputs": [
    {
     "data": {
      "text/plain": [
       "['OrderID',\n",
       " 'OrderDate',\n",
       " 'ShipDate',\n",
       " 'CustomerID',\n",
       " 'CustomerName',\n",
       " 'ProductID',\n",
       " 'Category',\n",
       " 'ProductName',\n",
       " 'Quantity',\n",
       " 'UnitPrice',\n",
       " 'Discount',\n",
       " 'TotalPrice',\n",
       " 'PaymentMethod',\n",
       " 'IsBulkOrder',\n",
       " 'IsHighValue',\n",
       " 'Region',\n",
       " 'ClientType',\n",
       " 'IsRepeatedCustomer',\n",
       " 'FeedbackScore',\n",
       " 'FeedbackComment',\n",
       " 'ShippingMethod',\n",
       " 'ShippingCost']"
      ]
     },
     "execution_count": 95,
     "metadata": {},
     "output_type": "execute_result"
    }
   ],
   "source": [
    "# 5. Check column names\n",
    "df.columns.tolist()"
   ]
  },
  {
   "cell_type": "code",
   "execution_count": 96,
   "id": "10a6bc5a",
   "metadata": {},
   "outputs": [
    {
     "data": {
      "text/plain": [
       "OrderID               0\n",
       "OrderDate             0\n",
       "ShipDate              0\n",
       "CustomerID            0\n",
       "CustomerName          0\n",
       "ProductID             0\n",
       "Category              0\n",
       "ProductName           0\n",
       "Quantity              0\n",
       "UnitPrice             0\n",
       "Discount              0\n",
       "TotalPrice            0\n",
       "PaymentMethod         0\n",
       "IsBulkOrder           0\n",
       "IsHighValue           0\n",
       "Region                0\n",
       "ClientType            0\n",
       "IsRepeatedCustomer    0\n",
       "FeedbackScore         0\n",
       "FeedbackComment       0\n",
       "ShippingMethod        0\n",
       "ShippingCost          0\n",
       "dtype: int64"
      ]
     },
     "execution_count": 96,
     "metadata": {},
     "output_type": "execute_result"
    }
   ],
   "source": [
    "# 6. Ensure there isn't any null values\n",
    "df.isnull().sum()"
   ]
  },
  {
   "cell_type": "code",
   "execution_count": 97,
   "id": "7405e62a",
   "metadata": {},
   "outputs": [
    {
     "data": {
      "text/plain": [
       "OrderID               100\n",
       "OrderDate              99\n",
       "ShipDate              393\n",
       "CustomerID            100\n",
       "CustomerName          100\n",
       "ProductID             395\n",
       "Category                6\n",
       "ProductName            30\n",
       "Quantity               20\n",
       "UnitPrice             389\n",
       "Discount               31\n",
       "TotalPrice            393\n",
       "PaymentMethod           4\n",
       "IsBulkOrder             2\n",
       "IsHighValue             2\n",
       "Region                393\n",
       "ClientType              2\n",
       "IsRepeatedCustomer      2\n",
       "FeedbackScore           5\n",
       "FeedbackComment        30\n",
       "ShippingMethod          4\n",
       "ShippingCost          356\n",
       "dtype: int64"
      ]
     },
     "execution_count": 97,
     "metadata": {},
     "output_type": "execute_result"
    }
   ],
   "source": [
    "# 7. Find unique - it helps us to know the variety of data exist in each column\n",
    "df.nunique()"
   ]
  },
  {
   "cell_type": "code",
   "execution_count": 98,
   "id": "c0e38314",
   "metadata": {},
   "outputs": [
    {
     "data": {
      "text/plain": [
       "0"
      ]
     },
     "execution_count": 98,
     "metadata": {},
     "output_type": "execute_result"
    }
   ],
   "source": [
    "# 8. Finding duplicates\n",
    "\n",
    "df.duplicated().sum()\n",
    "# we don't have any duplicates"
   ]
  },
  {
   "cell_type": "markdown",
   "id": "018c11d8",
   "metadata": {},
   "source": [
    "We'll use OrderID & Category mainly for the Market Basket Analysis\n",
    "- Now that we don't have missing values, and duplicates\n",
    "- Let's focus on:\n",
    "* Standardizing Formats: Ensure consistency in the Category column, such as correcting typos and standardizing case (e.g., converting all to lowercase).\n",
    "* Ensuring Consistent Case: If OrderID should be case-insensitive, standardize to either lower or upper case.\n",
    "* Trimming Whitespaces: Remove leading and trailing whitespaces from Category values."
   ]
  },
  {
   "cell_type": "code",
   "execution_count": 101,
   "id": "a26a928c",
   "metadata": {},
   "outputs": [],
   "source": [
    "# 9. Cleaning main variables 'OrderID', 'Category'\n",
    "\n",
    "# Standardize Category values (e.g., converting to lowercase)\n",
    "df['Category'] = df['Category'].str.lower()\n",
    "\n",
    "# Trim leading and trailing whitespaces in Category\n",
    "df['Category'] = df['Category'].str.strip()\n",
    "\n",
    "# Trim leading and trailing whitespaces in OrderID\n",
    "df['OrderID'] = df['OrderID'].str.strip()\n",
    "\n",
    "# Ensure consistent case (e.g., all OrderIDs in uppercase)\n",
    "df['OrderID'] = df['OrderID'].str.upper()\n",
    "\n",
    "# Save the cleaned dataset\n",
    "df.to_csv('Orders.csv', index=False)"
   ]
  },
  {
   "cell_type": "markdown",
   "id": "4ffe049a",
   "metadata": {},
   "source": [
    "Our dataset is now cleaned and saved successfully!"
   ]
  },
  {
   "cell_type": "code",
   "execution_count": 102,
   "id": "c83978f5",
   "metadata": {},
   "outputs": [
    {
     "data": {
      "text/html": [
       "<div>\n",
       "<style scoped>\n",
       "    .dataframe tbody tr th:only-of-type {\n",
       "        vertical-align: middle;\n",
       "    }\n",
       "\n",
       "    .dataframe tbody tr th {\n",
       "        vertical-align: top;\n",
       "    }\n",
       "\n",
       "    .dataframe thead th {\n",
       "        text-align: right;\n",
       "    }\n",
       "</style>\n",
       "<table border=\"1\" class=\"dataframe\">\n",
       "  <thead>\n",
       "    <tr style=\"text-align: right;\">\n",
       "      <th></th>\n",
       "      <th>OrderID</th>\n",
       "      <th>OrderDate</th>\n",
       "      <th>ShipDate</th>\n",
       "      <th>CustomerID</th>\n",
       "      <th>CustomerName</th>\n",
       "      <th>ProductID</th>\n",
       "      <th>Category</th>\n",
       "      <th>ProductName</th>\n",
       "      <th>Quantity</th>\n",
       "      <th>UnitPrice</th>\n",
       "      <th>...</th>\n",
       "      <th>PaymentMethod</th>\n",
       "      <th>IsBulkOrder</th>\n",
       "      <th>IsHighValue</th>\n",
       "      <th>Region</th>\n",
       "      <th>ClientType</th>\n",
       "      <th>IsRepeatedCustomer</th>\n",
       "      <th>FeedbackScore</th>\n",
       "      <th>FeedbackComment</th>\n",
       "      <th>ShippingMethod</th>\n",
       "      <th>ShippingCost</th>\n",
       "    </tr>\n",
       "  </thead>\n",
       "  <tbody>\n",
       "    <tr>\n",
       "      <th>0</th>\n",
       "      <td>KS-39256</td>\n",
       "      <td>2020-02-21</td>\n",
       "      <td>2022-06-17 04:44:17</td>\n",
       "      <td>Cust001</td>\n",
       "      <td>Long Inc</td>\n",
       "      <td>a95e3a37-a116-4abf-aa86-62dc9afda5c8</td>\n",
       "      <td>grocery</td>\n",
       "      <td>Bread</td>\n",
       "      <td>3</td>\n",
       "      <td>59.46</td>\n",
       "      <td>...</td>\n",
       "      <td>Debit Card</td>\n",
       "      <td>True</td>\n",
       "      <td>True</td>\n",
       "      <td>Bonniemouth</td>\n",
       "      <td>Corporate</td>\n",
       "      <td>True</td>\n",
       "      <td>4</td>\n",
       "      <td>Fresh and tasty.</td>\n",
       "      <td>Air</td>\n",
       "      <td>16.19</td>\n",
       "    </tr>\n",
       "    <tr>\n",
       "      <th>1</th>\n",
       "      <td>KS-39256</td>\n",
       "      <td>2020-02-21</td>\n",
       "      <td>2021-12-08 12:12:24</td>\n",
       "      <td>Cust001</td>\n",
       "      <td>Long Inc</td>\n",
       "      <td>6d9319e5-941d-44e6-9ebc-f1f17222a920</td>\n",
       "      <td>home &amp; kitchen</td>\n",
       "      <td>Mixer</td>\n",
       "      <td>11</td>\n",
       "      <td>28.51</td>\n",
       "      <td>...</td>\n",
       "      <td>Credit Card</td>\n",
       "      <td>True</td>\n",
       "      <td>False</td>\n",
       "      <td>New Dawnburgh</td>\n",
       "      <td>Individual</td>\n",
       "      <td>False</td>\n",
       "      <td>3</td>\n",
       "      <td>Stopped working after a week.</td>\n",
       "      <td>Air</td>\n",
       "      <td>16.14</td>\n",
       "    </tr>\n",
       "    <tr>\n",
       "      <th>2</th>\n",
       "      <td>OR-35203</td>\n",
       "      <td>2020-09-12</td>\n",
       "      <td>2021-09-01 00:39:48</td>\n",
       "      <td>Cust002</td>\n",
       "      <td>Gross, Fisher and Santos</td>\n",
       "      <td>d2bc0632-b80c-4202-bed5-897c6ed687a9</td>\n",
       "      <td>books</td>\n",
       "      <td>Novel</td>\n",
       "      <td>10</td>\n",
       "      <td>98.54</td>\n",
       "      <td>...</td>\n",
       "      <td>Cash</td>\n",
       "      <td>False</td>\n",
       "      <td>False</td>\n",
       "      <td>Lake Jasonhaven</td>\n",
       "      <td>Corporate</td>\n",
       "      <td>True</td>\n",
       "      <td>3</td>\n",
       "      <td>Couldn't put it down!</td>\n",
       "      <td>Air</td>\n",
       "      <td>4.19</td>\n",
       "    </tr>\n",
       "    <tr>\n",
       "      <th>3</th>\n",
       "      <td>OR-35203</td>\n",
       "      <td>2020-09-12</td>\n",
       "      <td>2021-06-04 20:30:40</td>\n",
       "      <td>Cust002</td>\n",
       "      <td>Gross, Fisher and Santos</td>\n",
       "      <td>98fb575a-8d57-4a7c-a064-bacce1fe2d8f</td>\n",
       "      <td>electronics</td>\n",
       "      <td>Headphones</td>\n",
       "      <td>18</td>\n",
       "      <td>73.18</td>\n",
       "      <td>...</td>\n",
       "      <td>Debit Card</td>\n",
       "      <td>False</td>\n",
       "      <td>True</td>\n",
       "      <td>Cooperberg</td>\n",
       "      <td>Individual</td>\n",
       "      <td>True</td>\n",
       "      <td>3</td>\n",
       "      <td>Great product with excellent features.</td>\n",
       "      <td>Sea</td>\n",
       "      <td>5.35</td>\n",
       "    </tr>\n",
       "    <tr>\n",
       "      <th>4</th>\n",
       "      <td>OR-35203</td>\n",
       "      <td>2020-09-12</td>\n",
       "      <td>2022-01-13 20:02:30</td>\n",
       "      <td>Cust002</td>\n",
       "      <td>Gross, Fisher and Santos</td>\n",
       "      <td>f3c6a61d-1c5b-461a-9679-bb3137d7a2e0</td>\n",
       "      <td>home &amp; kitchen</td>\n",
       "      <td>Toaster</td>\n",
       "      <td>7</td>\n",
       "      <td>65.89</td>\n",
       "      <td>...</td>\n",
       "      <td>Cash</td>\n",
       "      <td>True</td>\n",
       "      <td>False</td>\n",
       "      <td>Tannerland</td>\n",
       "      <td>Individual</td>\n",
       "      <td>True</td>\n",
       "      <td>5</td>\n",
       "      <td>Not satisfied with the performance.</td>\n",
       "      <td>Air</td>\n",
       "      <td>14.94</td>\n",
       "    </tr>\n",
       "  </tbody>\n",
       "</table>\n",
       "<p>5 rows × 22 columns</p>\n",
       "</div>"
      ],
      "text/plain": [
       "    OrderID   OrderDate             ShipDate CustomerID  \\\n",
       "0  KS-39256  2020-02-21  2022-06-17 04:44:17    Cust001   \n",
       "1  KS-39256  2020-02-21  2021-12-08 12:12:24    Cust001   \n",
       "2  OR-35203  2020-09-12  2021-09-01 00:39:48    Cust002   \n",
       "3  OR-35203  2020-09-12  2021-06-04 20:30:40    Cust002   \n",
       "4  OR-35203  2020-09-12  2022-01-13 20:02:30    Cust002   \n",
       "\n",
       "               CustomerName                             ProductID  \\\n",
       "0                  Long Inc  a95e3a37-a116-4abf-aa86-62dc9afda5c8   \n",
       "1                  Long Inc  6d9319e5-941d-44e6-9ebc-f1f17222a920   \n",
       "2  Gross, Fisher and Santos  d2bc0632-b80c-4202-bed5-897c6ed687a9   \n",
       "3  Gross, Fisher and Santos  98fb575a-8d57-4a7c-a064-bacce1fe2d8f   \n",
       "4  Gross, Fisher and Santos  f3c6a61d-1c5b-461a-9679-bb3137d7a2e0   \n",
       "\n",
       "         Category ProductName  Quantity  UnitPrice  ...  PaymentMethod  \\\n",
       "0         grocery       Bread         3      59.46  ...     Debit Card   \n",
       "1  home & kitchen       Mixer        11      28.51  ...    Credit Card   \n",
       "2           books       Novel        10      98.54  ...           Cash   \n",
       "3     electronics  Headphones        18      73.18  ...     Debit Card   \n",
       "4  home & kitchen     Toaster         7      65.89  ...           Cash   \n",
       "\n",
       "   IsBulkOrder IsHighValue           Region  ClientType IsRepeatedCustomer  \\\n",
       "0         True        True      Bonniemouth   Corporate               True   \n",
       "1         True       False    New Dawnburgh  Individual              False   \n",
       "2        False       False  Lake Jasonhaven   Corporate               True   \n",
       "3        False        True       Cooperberg  Individual               True   \n",
       "4         True       False       Tannerland  Individual               True   \n",
       "\n",
       "  FeedbackScore                         FeedbackComment  ShippingMethod  \\\n",
       "0             4                        Fresh and tasty.             Air   \n",
       "1             3           Stopped working after a week.             Air   \n",
       "2             3                   Couldn't put it down!             Air   \n",
       "3             3  Great product with excellent features.             Sea   \n",
       "4             5     Not satisfied with the performance.             Air   \n",
       "\n",
       "  ShippingCost  \n",
       "0        16.19  \n",
       "1        16.14  \n",
       "2         4.19  \n",
       "3         5.35  \n",
       "4        14.94  \n",
       "\n",
       "[5 rows x 22 columns]"
      ]
     },
     "execution_count": 102,
     "metadata": {},
     "output_type": "execute_result"
    }
   ],
   "source": [
    "# 10. Read cleaned dataset\n",
    "cleaned_df = pd.read_csv('Orders.csv')\n",
    "\n",
    "# Display the first few rows of the dataset\n",
    "cleaned_df.head()"
   ]
  },
  {
   "cell_type": "markdown",
   "id": "fe0dfc95",
   "metadata": {},
   "source": [
    "### If you'd like to, we can now move on to Tableau to perform a Market Basket Analysis!\n",
    "### Otherwise, we can perform EDA Analysis for more insights before we do MBA :)"
   ]
  },
  {
   "cell_type": "markdown",
   "id": "44675b73",
   "metadata": {},
   "source": [
    "#### a) Univariate Analysis"
   ]
  },
  {
   "cell_type": "code",
   "execution_count": 103,
   "id": "129c962e",
   "metadata": {},
   "outputs": [
    {
     "data": {
      "text/plain": [
       "count          395\n",
       "unique         100\n",
       "top       MA-18302\n",
       "freq             6\n",
       "Name: OrderID, dtype: object"
      ]
     },
     "execution_count": 103,
     "metadata": {},
     "output_type": "execute_result"
    }
   ],
   "source": [
    "# 1. Summary Statistics to understand data distribution:\n",
    "\n",
    "# Compute basic summary statistics for OrderID\n",
    "df['OrderID'].describe()"
   ]
  },
  {
   "cell_type": "code",
   "execution_count": 104,
   "id": "23094044",
   "metadata": {},
   "outputs": [
    {
     "data": {
      "text/plain": [
       "count         395\n",
       "unique          6\n",
       "top       grocery\n",
       "freq           71\n",
       "Name: Category, dtype: object"
      ]
     },
     "execution_count": 104,
     "metadata": {},
     "output_type": "execute_result"
    }
   ],
   "source": [
    "df['Category'].describe()"
   ]
  },
  {
   "cell_type": "code",
   "execution_count": 105,
   "id": "6f082d0b",
   "metadata": {},
   "outputs": [
    {
     "data": {
      "image/png": "[encoded data removed]",
      "text/plain": [
       "<Figure size 1000x600 with 1 Axes>"
      ]
     },
     "metadata": {},
     "output_type": "display_data"
    }
   ],
   "source": [
    "# 2. Distribution of Quantity ordered\n",
    "\n",
    "# Convert Quantity to numeric\n",
    "df['Quantity'] = pd.to_numeric(df['Quantity'])\n",
    "\n",
    "# Plotting using matplotlib histogram\n",
    "plt.figure(figsize=(10, 6))\n",
    "plt.hist(df['Quantity'], bins=range(df['Quantity'].min(), df['Quantity'].max() + 2), edgecolor='black')\n",
    "\n",
    "# Add title and labels\n",
    "plt.title('Distribution of Quantity Ordered')\n",
    "plt.xlabel('Quantity')\n",
    "plt.ylabel('Frequency')\n",
    "\n",
    "# Show the plot\n",
    "plt.show()"
   ]
  },
  {
   "cell_type": "markdown",
   "id": "0d69291d",
   "metadata": {},
   "source": [
    "This univariate analysis helps us understand the distribution of quantities ordered across all orders in the dataset, providing insights into common purchase quantities and their frequency.\n",
    "* The x-axis represents the quantity ordered, and the y-axis represents the frequency of orders with that quantity. \n",
    "* The histogram shows that the most common quantity ordered is around 18-19.\n",
    "* The least common quantity ordered is around 9-10, and 13-14.\n",
    "* The distribution is random."
   ]
  },
  {
   "cell_type": "markdown",
   "id": "bdd4d729",
   "metadata": {},
   "source": [
    "#### b) Bivariate Analysis"
   ]
  },
  {
   "cell_type": "code",
   "execution_count": 108,
   "id": "1d219c5a",
   "metadata": {},
   "outputs": [
    {
     "data": {
      "image/png": "[encoded data removed]",
      "text/plain": [
       "<Figure size 1000x600 with 1 Axes>"
      ]
     },
     "metadata": {},
     "output_type": "display_data"
    }
   ],
   "source": [
    "# 1. Order Count per Category:\n",
    "\n",
    "# Analyze the number of orders per category to see which categories are most frequently ordered.\n",
    "# Calculate order count per category\n",
    "order_count_per_category = df.groupby('Category')['OrderID'].nunique()\n",
    "\n",
    "# Create a bar plot\n",
    "plt.figure(figsize=(10, 6))\n",
    "colors = sns.color_palette(\"magma\", len(order_count_per_category))\n",
    "bar_plot = order_count_per_category.plot(kind='bar', color=colors)\n",
    "\n",
    "# Add title and labels\n",
    "plt.title('Order Count per Category')\n",
    "plt.xlabel('Category')\n",
    "plt.ylabel('Number of Orders')\n",
    "\n",
    "# Add number labels on bars\n",
    "for i in bar_plot.patches:\n",
    "    bar_plot.annotate(str(i.get_height()), (i.get_x() + i.get_width() / 2, i.get_height()), \n",
    "                      ha='center', va='center', fontsize=10, color='black', xytext=(0, 5), \n",
    "                      textcoords='offset points')\n",
    "\n",
    "# Add a legend\n",
    "plt.legend(['Order Counts'], loc='upper right')\n",
    "\n",
    "# Show the plot\n",
    "plt.show()"
   ]
  },
  {
   "cell_type": "markdown",
   "id": "cae6906c",
   "metadata": {},
   "source": [
    "The chart shows the order counts for different categories of products. \n",
    "\n",
    "* The most popular category is groceries, with 71 orders.\n",
    "* While the least popular category is toys, with 61 orders."
   ]
  },
  {
   "cell_type": "markdown",
   "id": "51fd43e5",
   "metadata": {},
   "source": [
    "#### c) Multivariate Analysis"
   ]
  },
  {
   "cell_type": "markdown",
   "id": "3e010dd1",
   "metadata": {},
   "source": [
    "Finally, a multivariate analysis:\n",
    "\n",
    "Distribution of Quantity by Category and Order\n",
    "* This analysis helps us understand the variation in quantities ordered across different categories within each order, providing insights into purchase behavior and potential patterns for further exploration in Market Basket Analysis."
   ]
  },
  {
   "cell_type": "code",
   "execution_count": 109,
   "id": "442c5163",
   "metadata": {},
   "outputs": [
    {
     "data": {
      "image/png": "[encoded data removed]",
      "text/plain": [
       "<Figure size 1000x600 with 1 Axes>"
      ]
     },
     "metadata": {},
     "output_type": "display_data"
    }
   ],
   "source": [
    "# 1. Convert Quantity to numeric\n",
    "df['Quantity'] = pd.to_numeric(df['Quantity'])\n",
    "\n",
    "# Plotting using seaborn boxplot\n",
    "plt.figure(figsize=(10, 6))\n",
    "sns.boxplot(x='Category', y='Quantity', data=df, palette='Set2')\n",
    "\n",
    "# Add title and labels\n",
    "plt.title('Distribution of Quantity by Category')\n",
    "plt.xlabel('Category')\n",
    "plt.ylabel('Quantity')\n",
    "\n",
    "# Show the plot\n",
    "plt.show()"
   ]
  },
  {
   "cell_type": "markdown",
   "id": "0b8aaa99",
   "metadata": {},
   "source": [
    "General trend:\n",
    "* The median quantities for grocery and home & kitchen, are similar.\n",
    "* Books and toys have lower median order quantity."
   ]
  },
  {
   "cell_type": "code",
   "execution_count": 110,
   "id": "ae330261",
   "metadata": {},
   "outputs": [],
   "source": [
    "# 2. Heatmap of Category Co-occurrences:\n",
    "\n",
    "# Create a co-occurrence matrix to visualize how often different categories are ordered together."
   ]
  },
  {
   "cell_type": "code",
   "execution_count": 115,
   "id": "2cd62072",
   "metadata": {},
   "outputs": [
    {
     "data": {
      "image/png": "[encoded data removed]",
      "text/plain": [
       "<Figure size 1200x1000 with 2 Axes>"
      ]
     },
     "metadata": {},
     "output_type": "display_data"
    }
   ],
   "source": [
    "# Pivot table to get binary indicators of category presence in each order\n",
    "order_category_matrix = pd.crosstab(index=df['OrderID'], columns=df['Category'])\n",
    "\n",
    "# Calculate co-occurrence matrix\n",
    "co_occurrence_matrix = order_category_matrix.T.dot(order_category_matrix)\n",
    "\n",
    "# Sort categories for better visualization\n",
    "categories = sorted(df['Category'].unique())\n",
    "co_occurrence_matrix = co_occurrence_matrix.reindex(index=categories, columns=categories, fill_value=0)\n",
    "\n",
    "# Plot heatmap\n",
    "plt.figure(figsize=(12, 10))\n",
    "sns.heatmap(co_occurrence_matrix, annot=True, fmt='d', cmap='YlGnBu', linewidths=.5)\n",
    "plt.title('Category Co-occurrence Matrix in Orders')\n",
    "plt.xlabel('Category')\n",
    "plt.ylabel('Category')\n",
    "plt.show()"
   ]
  },
  {
   "cell_type": "markdown",
   "id": "c829c715",
   "metadata": {},
   "source": [
    "Heatmap Representation:\n",
    "* Each cell in the heatmap represents the count of times two categories were bought together by a unique CustomerID on the same date.\n",
    "* The x-axis and y-axis of the heatmap represent categories.\n",
    "\n",
    "Color Gradient:\n",
    "* The color intensity in each cell indicates the strength of association between two categories:\n",
    "* Darker colors (e.g., dark blue) indicate a higher count, suggesting strong association (frequent co-purchase).\n",
    "* Lighter colors (e.g., light yellow) indicate a lower count or no association.\n",
    "\n",
    "Diagonal and Symmetry:\n",
    "* The diagonal line from the top-left to the bottom-right of the heatmap represents each category paired with itself, showing the count of times a category was purchased alone.\n",
    "\n",
    "Prelimary conclusion:\n",
    "* Observed frequent co-purchasing of categories like clothing and home & kitchen, groceries and home & kitchen, books and groceries, and clothing and groceries."
   ]
  },
  {
   "cell_type": "code",
   "execution_count": 127,
   "id": "b006fcfb",
   "metadata": {},
   "outputs": [
    {
     "data": {
      "text/html": [
       "<div>\n",
       "<style scoped>\n",
       "    .dataframe tbody tr th:only-of-type {\n",
       "        vertical-align: middle;\n",
       "    }\n",
       "\n",
       "    .dataframe tbody tr th {\n",
       "        vertical-align: top;\n",
       "    }\n",
       "\n",
       "    .dataframe thead th {\n",
       "        text-align: right;\n",
       "    }\n",
       "</style>\n",
       "<table border=\"1\" class=\"dataframe\">\n",
       "  <thead>\n",
       "    <tr style=\"text-align: right;\">\n",
       "      <th></th>\n",
       "      <th>Category Pair</th>\n",
       "      <th>Count</th>\n",
       "    </tr>\n",
       "  </thead>\n",
       "  <tbody>\n",
       "    <tr>\n",
       "      <th>2</th>\n",
       "      <td>(clothing, home &amp; kitchen)</td>\n",
       "      <td>48</td>\n",
       "    </tr>\n",
       "    <tr>\n",
       "      <th>6</th>\n",
       "      <td>(grocery, home &amp; kitchen)</td>\n",
       "      <td>48</td>\n",
       "    </tr>\n",
       "    <tr>\n",
       "      <th>11</th>\n",
       "      <td>(books, grocery)</td>\n",
       "      <td>48</td>\n",
       "    </tr>\n",
       "    <tr>\n",
       "      <th>13</th>\n",
       "      <td>(clothing, grocery)</td>\n",
       "      <td>48</td>\n",
       "    </tr>\n",
       "    <tr>\n",
       "      <th>5</th>\n",
       "      <td>(grocery, toys)</td>\n",
       "      <td>47</td>\n",
       "    </tr>\n",
       "    <tr>\n",
       "      <th>8</th>\n",
       "      <td>(books, clothing)</td>\n",
       "      <td>47</td>\n",
       "    </tr>\n",
       "    <tr>\n",
       "      <th>10</th>\n",
       "      <td>(books, electronics)</td>\n",
       "      <td>47</td>\n",
       "    </tr>\n",
       "    <tr>\n",
       "      <th>1</th>\n",
       "      <td>(clothing, electronics)</td>\n",
       "      <td>45</td>\n",
       "    </tr>\n",
       "    <tr>\n",
       "      <th>4</th>\n",
       "      <td>(electronics, grocery)</td>\n",
       "      <td>45</td>\n",
       "    </tr>\n",
       "    <tr>\n",
       "      <th>7</th>\n",
       "      <td>(home &amp; kitchen, toys)</td>\n",
       "      <td>45</td>\n",
       "    </tr>\n",
       "  </tbody>\n",
       "</table>\n",
       "</div>"
      ],
      "text/plain": [
       "                 Category Pair  Count\n",
       "2   (clothing, home & kitchen)     48\n",
       "6    (grocery, home & kitchen)     48\n",
       "11            (books, grocery)     48\n",
       "13         (clothing, grocery)     48\n",
       "5              (grocery, toys)     47\n",
       "8            (books, clothing)     47\n",
       "10        (books, electronics)     47\n",
       "1      (clothing, electronics)     45\n",
       "4       (electronics, grocery)     45\n",
       "7       (home & kitchen, toys)     45"
      ]
     },
     "execution_count": 127,
     "metadata": {},
     "output_type": "execute_result"
    }
   ],
   "source": [
    "# Verify with a pivot table\n",
    "# Group by OrderID and create combinations of categories\n",
    "order_category_combinations = df.groupby('OrderID')['Category'].apply(lambda x: list(set(x)))\n",
    "\n",
    "# Count pairs of categories bought together\n",
    "category_pairs_count = {}\n",
    "for categories in order_category_combinations:\n",
    "    if len(categories) >= 2:\n",
    "        category_pairs = [(cat1, cat2) for cat1 in categories for cat2 in categories if cat1 < cat2]\n",
    "        for pair in category_pairs:\n",
    "            if pair in category_pairs_count:\n",
    "                category_pairs_count[pair] += 1\n",
    "            else:\n",
    "                category_pairs_count[pair] = 1\n",
    "\n",
    "# Convert to DataFrame and sort by count in descending order\n",
    "category_pairs_count_df = pd.DataFrame(list(category_pairs_count.items()), columns=['Category Pair', 'Count'])\n",
    "category_pairs_count_df.sort_values(by='Count', ascending=False, inplace=True)\n",
    "\n",
    "# Display the top pairs\n",
    "category_pairs_count_df.head(10)"
   ]
  },
  {
   "cell_type": "markdown",
   "id": "cc514a50",
   "metadata": {},
   "source": [
    "Observation:\n",
    "* Observed frequent co-purchasing of categories like clothing and home & kitchen, groceries and home & kitchen, books and groceries, and clothing and groceries.\n",
    "* This suggests that customers tend to combine practical and personal items in their shopping carts, reflecting diverse consumer needs and convenience-driven purchasing behaviors."
   ]
  },
  {
   "cell_type": "markdown",
   "id": "4d8262a2",
   "metadata": {},
   "source": [
    "### Prelimary preparation and insights are done!\n",
    "### Let's perform a Market Basket Analysis on Tableau VERIFY our insights!"
   ]
  }
 ],
 "metadata": {
  "kernelspec": {
   "display_name": "Python 3 (ipykernel)",
   "language": "python",
   "name": "python3"
  },
  "language_info": {
   "codemirror_mode": {
    "name": "ipython",
    "version": 3
   },
   "file_extension": ".py",
   "mimetype": "text/x-python",
   "name": "python",
   "nbconvert_exporter": "python",
   "pygments_lexer": "ipython3",
   "version": "3.11.5"
  }
 },
 "nbformat": 4,
 "nbformat_minor": 5
}

{
 "cells": [
  {
   "cell_type": "markdown",
   "id": "d05491ac",
   "metadata": {},
   "source": [
    "# Findings"
   ]
  },
  {
   "cell_type": "markdown",
   "id": "d1dcc30b",
   "metadata": {},
   "source": [
    "Observation:\n",
    "Based on the MBA conducted using both python queries, heatmap, and Tableau validation,\n",
    "it is confirmed that there are several significant co-purchasing patterns have been identified:\n",
    "* (clothing, home & kitchen): 48\n",
    "* (grocery, home & kitchen): 48\n",
    "* (books, grocery): 48\n",
    "* (clothing, grocery): 48\n",
    "\n",
    "These patterns indicate that customers tend to combine practical and personal items in their shopping carts, reflecting diverse consumer needs and convenience-driven purchasing behaviors."
   ]
  },
  {
   "cell_type": "markdown",
   "id": "43ad01ab",
   "metadata": {},
   "source": [
    "# Recommendations"
   ]
  },
  {
   "cell_type": "markdown",
   "id": "33fdbdd0",
   "metadata": {},
   "source": [
    "Strategic Recommendations:\n",
    "\n",
    "a) Bundle and Upsell Packages:\n",
    "* Strategy: Create bundled packages that pair high-demand items with complementary products at a slightly discounted price.\n",
    "* Objective: Encourage customers to purchase additional items that complement their initial choices, thereby increasing average order value and maximizing profitability.\n",
    "* Implementation: Introduce themed bundles like \"Home Essentials Kit\" combining home & kitchen products with groceries, emphasizing convenience and value.\n",
    "\n",
    "b) Personalized Cross-Sell Campaigns:\n",
    "* Strategy: Implement personalized recommendations based on co-purchasing behaviors to suggest related products during the shopping journey.\n",
    "* Objective: Enhance customer experience by offering relevant cross-sell opportunities tailored to individual preferences, thereby increasing conversion rates and customer satisfaction.\n",
    "* Implementation: Utilize AI-driven recommendation engines to display prompts such as \"Customers who bought clothing also purchased these groceries\" on the checkout page.\n",
    "\n",
    "c) Subscription Services:\n",
    "* Strategy: Introduce subscription models offering regular deliveries of frequently co-purchased items at a discounted rate.\n",
    "* Objective: Foster customer loyalty and predictable revenue streams while simplifying inventory management and ensuring repeat sales.\n",
    "* Implementation: Launch a \"Weekly Essentials Subscription\" service offering discounts on bundled groceries and home & kitchen products delivered on a recurring basis.\n",
    "\n",
    "d) Enhanced Merchandising and In-Store Layout:\n",
    "* Strategy: Optimize physical and online store layouts to highlight co-purchased categories and encourage cross-category browsing.\n",
    "* Objective: Increase visibility and accessibility of related products to stimulate impulse purchases and capitalize on consumer buying patterns.\n",
    "* Implementation: Arrange merchandise in-store and online to showcase paired categories together, supported by promotional signage and digital displays emphasizing co-purchasing benefits."
   ]
  },
  {
   "cell_type": "code",
   "execution_count": null,
   "id": "8898f4c6",
   "metadata": {},
   "outputs": [],
   "source": []
  }
 ],
 "metadata": {
  "kernelspec": {
   "display_name": "Python 3 (ipykernel)",
   "language": "python",
   "name": "python3"
  },
  "language_info": {
   "codemirror_mode": {
    "name": "ipython",
    "version": 3
   },
   "file_extension": ".py",
   "mimetype": "text/x-python",
   "name": "python",
   "nbconvert_exporter": "python",
   "pygments_lexer": "ipython3",
   "version": "3.11.5"
  }
 },
 "nbformat": 4,
 "nbformat_minor": 5
}
